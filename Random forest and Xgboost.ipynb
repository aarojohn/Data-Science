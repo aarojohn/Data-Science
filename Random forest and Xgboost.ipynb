{
 "cells": [
  {
   "cell_type": "code",
   "execution_count": 1,
   "id": "d9eefe43",
   "metadata": {},
   "outputs": [],
   "source": [
    "# linear algebra\n",
    "import numpy as np \n",
    "\n",
    "# data processing\n",
    "import pandas as pd \n",
    "\n",
    "# data visualization\n",
    "import seaborn as sns\n",
    "%matplotlib inline\n",
    "from matplotlib import pyplot as plt\n",
    "from matplotlib import style\n",
    "\n",
    "# Algorithms\n",
    "from sklearn import linear_model\n",
    "from sklearn.linear_model import SGDClassifier, LogisticRegression\n",
    "from sklearn.ensemble import RandomForestClassifier\n",
    "from sklearn.linear_model import Perceptron\n",
    "from sklearn.tree import DecisionTreeClassifier\n",
    "from sklearn.neighbors import KNeighborsClassifier\n",
    "from sklearn.svm import SVC, LinearSVC\n",
    "from sklearn.naive_bayes import GaussianNB, MultinomialNB\n",
    "from sklearn.ensemble import AdaBoostClassifier\n",
    "from sklearn.neural_network import MLPClassifier\n",
    "from xgboost import XGBClassifier\n",
    "import xgboost as xgb\n",
    "\n",
    "# Preprocessing\n",
    "from sklearn.model_selection import train_test_split\n",
    "from sklearn.preprocessing import LabelEncoder, StandardScaler, OneHotEncoder\n",
    "\n",
    "# Metrics \n",
    "from sklearn.metrics import log_loss\n",
    "from sklearn.model_selection import cross_val_score\n",
    "\n",
    "# Model Selection & Hyperparameter tuning\n",
    "from sklearn.model_selection import GridSearchCV, RandomizedSearchCV, StratifiedKFold\n",
    "\n",
    "\n",
    "\n",
    "# Clustering\n",
    "from sklearn.cluster import KMeans\n",
    "\n",
    "# Mathematical Functions\n",
    "import math"
   ]
  },
  {
   "cell_type": "code",
   "execution_count": 2,
   "id": "b8d0575f",
   "metadata": {},
   "outputs": [],
   "source": [
    "df = pd.read_csv('my_dataframe.csv')"
   ]
  },
  {
   "cell_type": "markdown",
   "id": "156b6bd8",
   "metadata": {},
   "source": [
    "# Random Forest"
   ]
  },
  {
   "cell_type": "code",
   "execution_count": 3,
   "id": "fca31e22",
   "metadata": {},
   "outputs": [
    {
     "name": "stdout",
     "output_type": "stream",
     "text": [
      "Accuracy: 0.6364104765993989\n"
     ]
    }
   ],
   "source": [
    "import pandas as pd\n",
    "from sklearn.model_selection import train_test_split\n",
    "from sklearn.ensemble import RandomForestClassifier\n",
    "from sklearn.preprocessing import OneHotEncoder\n",
    "from sklearn.compose import ColumnTransformer\n",
    "from sklearn.pipeline import Pipeline\n",
    "\n",
    "# Load your DataFrame\n",
    "# Replace 'my_dataframe.csv' with the path to your CSV file\n",
    "df = pd.read_csv('my_dataframe.csv')\n",
    "\n",
    "# Define your feature columns and target column\n",
    "# Replace 'target_column' with the name of the column you want to predict\n",
    "target_column = 'Status'\n",
    "feature_columns = [col for col in df.columns if col != target_column]\n",
    "\n",
    "# Separate categorical and numeric columns\n",
    "categorical_columns = [col for col in feature_columns if df[col].dtype == 'object']\n",
    "numeric_columns = [col for col in feature_columns if col not in categorical_columns]\n",
    "\n",
    "# Create a preprocessing pipeline\n",
    "preprocessor = ColumnTransformer(\n",
    "    transformers=[\n",
    "        ('num', 'passthrough', numeric_columns),  # numeric columns (no transformation)\n",
    "        ('cat', OneHotEncoder(), categorical_columns)  # one-hot encoding for categorical columns\n",
    "    ])\n",
    "\n",
    "# Create and train a Random Forest model within a pipeline\n",
    "rf_model = Pipeline([\n",
    "    ('preprocessor', preprocessor),\n",
    "    ('model', RandomForestClassifier(n_estimators=100, random_state=42))\n",
    "])\n",
    "\n",
    "X = df[feature_columns]\n",
    "y = df[target_column]\n",
    "X_train, X_test, y_train, y_test = train_test_split(X, y, test_size=0.2, random_state=42)\n",
    "\n",
    "rf_model.fit(X_train, y_train)\n",
    "\n",
    "# Make predictions on the test data\n",
    "y_pred = rf_model.predict(X_test)\n",
    "\n",
    "# You can evaluate the model's performance using metrics like accuracy, precision, recall, etc.\n",
    "# For example:\n",
    "from sklearn.metrics import accuracy_score\n",
    "accuracy = accuracy_score(y_test, y_pred)\n",
    "print(f'Accuracy: {accuracy}')\n"
   ]
  },
  {
   "cell_type": "markdown",
   "id": "410277b4",
   "metadata": {},
   "source": [
    "\n",
    "# Xgboost\n"
   ]
  },
  {
   "cell_type": "code",
   "execution_count": 10,
   "id": "ab9f3d1a",
   "metadata": {},
   "outputs": [
    {
     "name": "stdout",
     "output_type": "stream",
     "text": [
      "Accuracy: 0.6456848432803779\n"
     ]
    }
   ],
   "source": [
    "import pandas as pd\n",
    "from sklearn.model_selection import train_test_split\n",
    "import xgboost as xgb\n",
    "from sklearn.preprocessing import LabelEncoder, OneHotEncoder\n",
    "from sklearn.compose import ColumnTransformer\n",
    "from sklearn.pipeline import Pipeline\n",
    "\n",
    "# Load your DataFrame\n",
    "# Replace 'my_dataframe.csv' with the path to your CSV file\n",
    "df = pd.read_csv('my_dataframe.csv')\n",
    "\n",
    "# Define your feature columns and target column\n",
    "# Replace 'target_column' with the name of the column you want to predict\n",
    "target_column = 'Status'\n",
    "feature_columns = [col for col in df.columns if col != target_column]\n",
    "\n",
    "# Split the data into training and testing sets\n",
    "X = df[feature_columns]\n",
    "y = df[target_column]\n",
    "\n",
    "# Check if the target variable is non-numeric\n",
    "if y.dtype == 'object':\n",
    "    # Encode non-numeric class labels to numeric labels\n",
    "    label_encoder = LabelEncoder()\n",
    "    y = label_encoder.fit_transform(y)\n",
    "\n",
    "# Separate categorical and numeric columns\n",
    "categorical_columns = [col for col in X.columns if X[col].dtype == 'object']\n",
    "numeric_columns = [col for col in X.columns if col not in categorical_columns]\n",
    "\n",
    "# Create a preprocessing pipeline to handle categorical and numeric features\n",
    "preprocessor = ColumnTransformer(\n",
    "    transformers=[\n",
    "        ('num', 'passthrough', numeric_columns),  # numeric columns (no transformation)\n",
    "        ('cat', OneHotEncoder(handle_unknown='ignore'), categorical_columns)  # one-hot encoding for categorical columns\n",
    "    ])\n",
    "\n",
    "# Create and train an XGBoost model within a pipeline\n",
    "xgb_model = Pipeline([\n",
    "    ('preprocessor', preprocessor),\n",
    "    ('model', xgb.XGBClassifier(n_estimators=100, random_state=42))  # You can adjust hyperparameters\n",
    "])\n",
    "\n",
    "# Split the data into training and testing sets\n",
    "X_train, X_test, y_train, y_test = train_test_split(X, y, test_size=0.2, random_state=42)\n",
    "\n",
    "xgb_model.fit(X_train, y_train)\n",
    "\n",
    "# Make predictions on the test data\n",
    "y_pred = xgb_model.predict(X_test)\n",
    "\n",
    "# If you originally had non-numeric class labels, you can map them back using the label_encoder\n",
    "if y.dtype == 'object':\n",
    "    y_test_original = label_encoder.inverse_transform(y_test)\n",
    "    y_pred_original = label_encoder.inverse_transform(y_pred)\n",
    "else:\n",
    "    y_test_original = y_test\n",
    "    y_pred_original = y_pred\n",
    "\n",
    "# You can evaluate the model's performance using metrics like accuracy, precision, recall, etc.\n",
    "# For example:\n",
    "from sklearn.metrics import accuracy_score\n",
    "accuracy = accuracy_score(y_test, y_pred)\n",
    "print(f'Accuracy: {accuracy}')\n"
   ]
  },
  {
   "cell_type": "code",
   "execution_count": null,
   "id": "d0beeda9",
   "metadata": {},
   "outputs": [],
   "source": []
  }
 ],
 "metadata": {
  "kernelspec": {
   "display_name": "Python 3 (ipykernel)",
   "language": "python",
   "name": "python3"
  },
  "language_info": {
   "codemirror_mode": {
    "name": "ipython",
    "version": 3
   },
   "file_extension": ".py",
   "mimetype": "text/x-python",
   "name": "python",
   "nbconvert_exporter": "python",
   "pygments_lexer": "ipython3",
   "version": "3.9.7"
  }
 },
 "nbformat": 4,
 "nbformat_minor": 5
}
