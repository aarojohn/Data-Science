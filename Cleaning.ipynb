{
 "cells": [
  {
   "cell_type": "code",
   "execution_count": 1,
   "id": "0ee51aeb",
   "metadata": {},
   "outputs": [],
   "source": [
    "# linear algebra\n",
    "import numpy as np \n",
    "\n",
    "# data processing\n",
    "import pandas as pd \n",
    "\n",
    "# data visualization\n",
    "import seaborn as sns\n",
    "%matplotlib inline\n",
    "from matplotlib import pyplot as plt\n",
    "from matplotlib import style\n",
    "\n",
    "# Algorithms\n",
    "from sklearn import linear_model\n",
    "from sklearn.linear_model import SGDClassifier, LogisticRegression\n",
    "from sklearn.ensemble import RandomForestClassifier\n",
    "from sklearn.linear_model import Perceptron\n",
    "from sklearn.tree import DecisionTreeClassifier\n",
    "from sklearn.neighbors import KNeighborsClassifier\n",
    "from sklearn.svm import SVC, LinearSVC\n",
    "from sklearn.naive_bayes import GaussianNB, MultinomialNB\n",
    "from sklearn.ensemble import AdaBoostClassifier\n",
    "from sklearn.neural_network import MLPClassifier\n",
    "from xgboost import XGBClassifier\n",
    "import xgboost as xgb\n",
    "\n",
    "# Preprocessing\n",
    "from sklearn.model_selection import train_test_split\n",
    "from sklearn.preprocessing import LabelEncoder, StandardScaler, OneHotEncoder\n",
    "\n",
    "# Metrics \n",
    "from sklearn.metrics import log_loss\n",
    "from sklearn.model_selection import cross_val_score\n",
    "\n",
    "# Model Selection & Hyperparameter tuning\n",
    "from sklearn.model_selection import GridSearchCV, RandomizedSearchCV, StratifiedKFold\n",
    "\n",
    "\n",
    "\n",
    "# Clustering\n",
    "from sklearn.cluster import KMeans\n",
    "\n",
    "# Mathematical Functions\n",
    "import math"
   ]
  },
  {
   "cell_type": "code",
   "execution_count": 2,
   "id": "9e3b8499",
   "metadata": {},
   "outputs": [],
   "source": [
    "df = pd.read_csv(\"D:/doc/All the Semester/7)Seventh Semester fall 23-24/Data Mining Technique/Project/archive/Crime_Data_2010_2017.csv\")"
   ]
  },
  {
   "cell_type": "code",
   "execution_count": 3,
   "id": "c55b5842",
   "metadata": {},
   "outputs": [
    {
     "name": "stdout",
     "output_type": "stream",
     "text": [
      "   DR Number Date Reported Date Occurred  Time Occurred  Area ID    Area Name  \\\n",
      "0    1208575    03/14/2013    03/11/2013           1800       12  77th Street   \n",
      "1  102005556    01/25/2010    01/22/2010           2300       20      Olympic   \n",
      "2        418    03/19/2013    03/18/2013           2030       18    Southeast   \n",
      "3  101822289    11/11/2010    11/10/2010           1800       18    Southeast   \n",
      "4   42104479    01/11/2014    01/04/2014           2300       21      Topanga   \n",
      "\n",
      "   Reporting District  Crime Code                    Crime Code Description  \\\n",
      "0                1241         626         INTIMATE PARTNER - SIMPLE ASSAULT   \n",
      "1                2071         510                          VEHICLE - STOLEN   \n",
      "2                1823         510                          VEHICLE - STOLEN   \n",
      "3                1803         510                          VEHICLE - STOLEN   \n",
      "4                2133         745  VANDALISM - MISDEAMEANOR ($399 OR UNDER)   \n",
      "\n",
      "              MO Codes  ...                              Weapon Description  \\\n",
      "0  0416 0446 1243 2000  ...  STRONG-ARM (HANDS, FIST, FEET OR BODILY FORCE)   \n",
      "1                  NaN  ...                                             NaN   \n",
      "2                  NaN  ...                                             NaN   \n",
      "3                  NaN  ...                                             NaN   \n",
      "4                 0329  ...                                             NaN   \n",
      "\n",
      "  Status Code Status Description  Crime Code 1 Crime Code 2  Crime Code 3  \\\n",
      "0          AO        Adult Other         626.0          NaN           NaN   \n",
      "1          IC        Invest Cont         510.0          NaN           NaN   \n",
      "2          IC        Invest Cont         510.0          NaN           NaN   \n",
      "3          IC        Invest Cont         510.0          NaN           NaN   \n",
      "4          IC        Invest Cont         745.0          NaN           NaN   \n",
      "\n",
      "  Crime Code 4                                  Address Cross Street  \\\n",
      "0          NaN  6300    BRYNHURST                    AV          NaN   \n",
      "1          NaN                                 VAN NESS         15TH   \n",
      "2          NaN   200 E  104TH                        ST          NaN   \n",
      "3          NaN                                     88TH         WALL   \n",
      "4          NaN  7200    CIRRUS                       WY          NaN   \n",
      "\n",
      "              Location   \n",
      "0  (33.9829, -118.3338)  \n",
      "1  (34.0454, -118.3157)  \n",
      "2   (33.942, -118.2717)  \n",
      "3  (33.9572, -118.2717)  \n",
      "4  (34.2009, -118.6369)  \n",
      "\n",
      "[5 rows x 26 columns]\n"
     ]
    }
   ],
   "source": [
    "print(df.head());"
   ]
  },
  {
   "cell_type": "code",
   "execution_count": 4,
   "id": "ed3fd686",
   "metadata": {},
   "outputs": [
    {
     "name": "stdout",
     "output_type": "stream",
     "text": [
      "<class 'pandas.core.frame.DataFrame'>\n",
      "RangeIndex: 1584316 entries, 0 to 1584315\n",
      "Data columns (total 26 columns):\n",
      " #   Column                  Non-Null Count    Dtype  \n",
      "---  ------                  --------------    -----  \n",
      " 0   DR Number               1584316 non-null  int64  \n",
      " 1   Date Reported           1584316 non-null  object \n",
      " 2   Date Occurred           1584316 non-null  object \n",
      " 3   Time Occurred           1584316 non-null  int64  \n",
      " 4   Area ID                 1584316 non-null  int64  \n",
      " 5   Area Name               1584316 non-null  object \n",
      " 6   Reporting District      1584316 non-null  int64  \n",
      " 7   Crime Code              1584316 non-null  int64  \n",
      " 8   Crime Code Description  1583904 non-null  object \n",
      " 9   MO Codes                1412557 non-null  object \n",
      " 10  Victim Age              1455657 non-null  float64\n",
      " 11  Victim Sex              1439117 non-null  object \n",
      " 12  Victim Descent          1439084 non-null  object \n",
      " 13  Premise Code            1584240 non-null  float64\n",
      " 14  Premise Description     1581565 non-null  object \n",
      " 15  Weapon Used Code        524757 non-null   float64\n",
      " 16  Weapon Description      524756 non-null   object \n",
      " 17  Status Code             1584314 non-null  object \n",
      " 18  Status Description      1584316 non-null  object \n",
      " 19  Crime Code 1            1584309 non-null  float64\n",
      " 20  Crime Code 2            99997 non-null    float64\n",
      " 21  Crime Code 3            2183 non-null     float64\n",
      " 22  Crime Code 4            69 non-null       float64\n",
      " 23  Address                 1584316 non-null  object \n",
      " 24  Cross Street            262733 non-null   object \n",
      " 25  Location                1584307 non-null  object \n",
      "dtypes: float64(7), int64(5), object(14)\n",
      "memory usage: 314.3+ MB\n"
     ]
    }
   ],
   "source": [
    "df.info(verbose=True,show_counts=True)"
   ]
  },
  {
   "cell_type": "code",
   "execution_count": 5,
   "id": "d300b39c",
   "metadata": {},
   "outputs": [
    {
     "data": {
      "text/plain": [
       "0"
      ]
     },
     "execution_count": 5,
     "metadata": {},
     "output_type": "execute_result"
    }
   ],
   "source": [
    "df.duplicated().sum()"
   ]
  },
  {
   "cell_type": "code",
   "execution_count": 6,
   "id": "d8e933a5",
   "metadata": {},
   "outputs": [],
   "source": [
    "columns_to_drop = [\n",
    "    'DR Number', 'Date Reported', 'Date Occurred','Area Name', 'Crime Code Description', 'MO Codes',\n",
    "    'Victim Descent', 'Premise Description','Weapon Description', 'Status Description',\n",
    "    'Crime Code 1', 'Crime Code 2', 'Crime Code 3', 'Crime Code 4','Address','Cross Street','Location '\n",
    "]\n",
    "\n",
    "df = df.drop(columns=columns_to_drop)"
   ]
  },
  {
   "cell_type": "code",
   "execution_count": 7,
   "id": "4829e6dc",
   "metadata": {},
   "outputs": [
    {
     "name": "stdout",
     "output_type": "stream",
     "text": [
      "<class 'pandas.core.frame.DataFrame'>\n",
      "RangeIndex: 1584316 entries, 0 to 1584315\n",
      "Data columns (total 9 columns):\n",
      " #   Column              Non-Null Count    Dtype  \n",
      "---  ------              --------------    -----  \n",
      " 0   Time Occurred       1584316 non-null  int64  \n",
      " 1   Area ID             1584316 non-null  int64  \n",
      " 2   Reporting District  1584316 non-null  int64  \n",
      " 3   Crime Code          1584316 non-null  int64  \n",
      " 4   Victim Age          1455657 non-null  float64\n",
      " 5   Victim Sex          1439117 non-null  object \n",
      " 6   Premise Code        1584240 non-null  float64\n",
      " 7   Weapon Used Code    524757 non-null   float64\n",
      " 8   Status Code         1584314 non-null  object \n",
      "dtypes: float64(3), int64(4), object(2)\n",
      "memory usage: 108.8+ MB\n"
     ]
    }
   ],
   "source": [
    "df.info(verbose=True,show_counts=True)"
   ]
  },
  {
   "cell_type": "code",
   "execution_count": 8,
   "id": "4d852040",
   "metadata": {},
   "outputs": [
    {
     "name": "stdout",
     "output_type": "stream",
     "text": [
      "<class 'pandas.core.frame.DataFrame'>\n",
      "Int64Index: 496796 entries, 0 to 1584315\n",
      "Data columns (total 9 columns):\n",
      " #   Column              Non-Null Count   Dtype  \n",
      "---  ------              --------------   -----  \n",
      " 0   Time Occurred       496796 non-null  int64  \n",
      " 1   Area ID             496796 non-null  int64  \n",
      " 2   Reporting District  496796 non-null  int64  \n",
      " 3   Crime Code          496796 non-null  int64  \n",
      " 4   Victim Age          496796 non-null  float64\n",
      " 5   Victim Sex          496796 non-null  object \n",
      " 6   Premise Code        496796 non-null  float64\n",
      " 7   Weapon Used Code    496796 non-null  float64\n",
      " 8   Status Code         496796 non-null  object \n",
      "dtypes: float64(3), int64(4), object(2)\n",
      "memory usage: 37.9+ MB\n"
     ]
    }
   ],
   "source": [
    "df = df.dropna()\n",
    "df.info(verbose=True,show_counts=True)"
   ]
  },
  {
   "cell_type": "code",
   "execution_count": 9,
   "id": "217c9f54",
   "metadata": {},
   "outputs": [],
   "source": [
    "df.to_csv('my_dataframe_ADV.csv', index=False)"
   ]
  },
  {
   "cell_type": "code",
   "execution_count": null,
   "id": "ff9be33e",
   "metadata": {},
   "outputs": [],
   "source": []
  }
 ],
 "metadata": {
  "kernelspec": {
   "display_name": "Python 3 (ipykernel)",
   "language": "python",
   "name": "python3"
  },
  "language_info": {
   "codemirror_mode": {
    "name": "ipython",
    "version": 3
   },
   "file_extension": ".py",
   "mimetype": "text/x-python",
   "name": "python",
   "nbconvert_exporter": "python",
   "pygments_lexer": "ipython3",
   "version": "3.9.7"
  }
 },
 "nbformat": 4,
 "nbformat_minor": 5
}
