{
 "cells": [
  {
   "cell_type": "code",
   "execution_count": 37,
   "id": "3d65ced8",
   "metadata": {},
   "outputs": [],
   "source": [
    "import numpy as np\n",
    "import pandas as pd \n",
    "import matplotlib as plt\n",
    "import seaborn as sns \n",
    "%matplotlib notebook"
   ]
  },
  {
   "cell_type": "code",
   "execution_count": 38,
   "id": "517f0bc5",
   "metadata": {},
   "outputs": [],
   "source": [
    "dataset=pd.read_csv(\"my_dataframe.csv\")"
   ]
  },
  {
   "cell_type": "code",
   "execution_count": 39,
   "id": "e14db46e",
   "metadata": {},
   "outputs": [
    {
     "data": {
      "text/html": [
       "<div>\n",
       "<style scoped>\n",
       "    .dataframe tbody tr th:only-of-type {\n",
       "        vertical-align: middle;\n",
       "    }\n",
       "\n",
       "    .dataframe tbody tr th {\n",
       "        vertical-align: top;\n",
       "    }\n",
       "\n",
       "    .dataframe thead th {\n",
       "        text-align: right;\n",
       "    }\n",
       "</style>\n",
       "<table border=\"1\" class=\"dataframe\">\n",
       "  <thead>\n",
       "    <tr style=\"text-align: right;\">\n",
       "      <th></th>\n",
       "      <th>TIME OCC</th>\n",
       "      <th>AREA</th>\n",
       "      <th>Rpt Dist No</th>\n",
       "      <th>Crm Cd</th>\n",
       "      <th>Vict Age</th>\n",
       "      <th>Vict Sex</th>\n",
       "      <th>Premis Cd</th>\n",
       "      <th>Weapon Used Cd</th>\n",
       "      <th>Status</th>\n",
       "    </tr>\n",
       "  </thead>\n",
       "  <tbody>\n",
       "    <tr>\n",
       "      <th>0</th>\n",
       "      <td>2230</td>\n",
       "      <td>3</td>\n",
       "      <td>377</td>\n",
       "      <td>624</td>\n",
       "      <td>36</td>\n",
       "      <td>F</td>\n",
       "      <td>501.0</td>\n",
       "      <td>400.0</td>\n",
       "      <td>AO</td>\n",
       "    </tr>\n",
       "    <tr>\n",
       "      <th>1</th>\n",
       "      <td>330</td>\n",
       "      <td>1</td>\n",
       "      <td>163</td>\n",
       "      <td>624</td>\n",
       "      <td>25</td>\n",
       "      <td>M</td>\n",
       "      <td>102.0</td>\n",
       "      <td>500.0</td>\n",
       "      <td>IC</td>\n",
       "    </tr>\n",
       "    <tr>\n",
       "      <th>2</th>\n",
       "      <td>30</td>\n",
       "      <td>1</td>\n",
       "      <td>163</td>\n",
       "      <td>121</td>\n",
       "      <td>25</td>\n",
       "      <td>F</td>\n",
       "      <td>735.0</td>\n",
       "      <td>500.0</td>\n",
       "      <td>IC</td>\n",
       "    </tr>\n",
       "    <tr>\n",
       "      <th>3</th>\n",
       "      <td>30</td>\n",
       "      <td>18</td>\n",
       "      <td>1871</td>\n",
       "      <td>930</td>\n",
       "      <td>21</td>\n",
       "      <td>F</td>\n",
       "      <td>101.0</td>\n",
       "      <td>511.0</td>\n",
       "      <td>IC</td>\n",
       "    </tr>\n",
       "    <tr>\n",
       "      <th>4</th>\n",
       "      <td>2200</td>\n",
       "      <td>1</td>\n",
       "      <td>192</td>\n",
       "      <td>330</td>\n",
       "      <td>29</td>\n",
       "      <td>M</td>\n",
       "      <td>101.0</td>\n",
       "      <td>306.0</td>\n",
       "      <td>IC</td>\n",
       "    </tr>\n",
       "  </tbody>\n",
       "</table>\n",
       "</div>"
      ],
      "text/plain": [
       "   TIME OCC  AREA  Rpt Dist No  Crm Cd  Vict Age Vict Sex  Premis Cd  \\\n",
       "0      2230     3          377     624        36        F      501.0   \n",
       "1       330     1          163     624        25        M      102.0   \n",
       "2        30     1          163     121        25        F      735.0   \n",
       "3        30    18         1871     930        21        F      101.0   \n",
       "4      2200     1          192     330        29        M      101.0   \n",
       "\n",
       "   Weapon Used Cd Status  \n",
       "0           400.0     AO  \n",
       "1           500.0     IC  \n",
       "2           500.0     IC  \n",
       "3           511.0     IC  \n",
       "4           306.0     IC  "
      ]
     },
     "execution_count": 39,
     "metadata": {},
     "output_type": "execute_result"
    }
   ],
   "source": [
    "dataset.head()"
   ]
  },
  {
   "cell_type": "code",
   "execution_count": 40,
   "id": "3a047a8b",
   "metadata": {},
   "outputs": [
    {
     "name": "stdout",
     "output_type": "stream",
     "text": [
      "<class 'pandas.core.frame.DataFrame'>\n",
      "RangeIndex: 116446 entries, 0 to 116445\n",
      "Data columns (total 9 columns):\n",
      " #   Column          Non-Null Count   Dtype  \n",
      "---  ------          --------------   -----  \n",
      " 0   TIME OCC        116446 non-null  int64  \n",
      " 1   AREA            116446 non-null  int64  \n",
      " 2   Rpt Dist No     116446 non-null  int64  \n",
      " 3   Crm Cd          116446 non-null  int64  \n",
      " 4   Vict Age        116446 non-null  int64  \n",
      " 5   Vict Sex        116446 non-null  object \n",
      " 6   Premis Cd       116446 non-null  float64\n",
      " 7   Weapon Used Cd  116446 non-null  float64\n",
      " 8   Status          116446 non-null  object \n",
      "dtypes: float64(2), int64(5), object(2)\n",
      "memory usage: 8.0+ MB\n"
     ]
    }
   ],
   "source": [
    "dataset.info()"
   ]
  },
  {
   "cell_type": "code",
   "execution_count": 44,
   "id": "778d024e",
   "metadata": {},
   "outputs": [
    {
     "data": {
      "text/plain": [
       "array([[2230, 3, 377, ..., False, False, False],\n",
       "       [330, 1, 163, ..., False, True, False],\n",
       "       [30, 1, 163, ..., False, False, False],\n",
       "       ...,\n",
       "       [2135, 21, 2143, ..., False, True, False],\n",
       "       [2210, 5, 564, ..., False, False, False],\n",
       "       [1050, 17, 1798, ..., False, True, False]], dtype=object)"
      ]
     },
     "execution_count": 44,
     "metadata": {},
     "output_type": "execute_result"
    }
   ],
   "source": [
    "X"
   ]
  },
  {
   "cell_type": "code",
   "execution_count": 46,
   "id": "d49b9464",
   "metadata": {},
   "outputs": [
    {
     "data": {
      "text/plain": [
       "array(['AO', 'IC', 'IC', ..., 'IC', 'AA', 'IC'], dtype=object)"
      ]
     },
     "execution_count": 46,
     "metadata": {},
     "output_type": "execute_result"
    }
   ],
   "source": [
    "Y"
   ]
  },
  {
   "cell_type": "code",
   "execution_count": 41,
   "id": "f882a532",
   "metadata": {},
   "outputs": [],
   "source": [
    "X=dataset.iloc[:,0:8]\n",
    "\n",
    "X=pd.get_dummies(X)\n",
    "\n",
    "X=X.values\n",
    "\n",
    "Y=dataset.iloc[:,-1].values\n",
    "\n",
    "from sklearn.model_selection import train_test_split\n",
    "\n",
    "X_train, X_test,Y_train,Y_test=train_test_split(X,Y,test_size=.25,random_state=42)\n",
    "\n",
    "from sklearn.neighbors import KNeighborsClassifier\n",
    "\n",
    "KNN=KNeighborsClassifier()\n",
    "\n",
    "KNN.fit(X_train,Y_train)\n",
    "\n",
    "Y_pred=KNN.predict(X_test)\n",
    "\n",
    "from sklearn.metrics import classification_report, confusion_matrix\n",
    "\n",
    "print(classification_report(Y_test.reshape(-1,1),Y_pred))\n",
    "\n"
   ]
  }
 ],
 "metadata": {
  "kernelspec": {
   "display_name": "Python 3 (ipykernel)",
   "language": "python",
   "name": "python3"
  },
  "language_info": {
   "codemirror_mode": {
    "name": "ipython",
    "version": 3
   },
   "file_extension": ".py",
   "mimetype": "text/x-python",
   "name": "python",
   "nbconvert_exporter": "python",
   "pygments_lexer": "ipython3",
   "version": "3.9.7"
  }
 },
 "nbformat": 4,
 "nbformat_minor": 5
}
